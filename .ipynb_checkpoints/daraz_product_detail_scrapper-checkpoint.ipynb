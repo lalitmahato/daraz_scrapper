{
 "cells": [
  {
   "cell_type": "code",
   "execution_count": 1,
   "id": "1de968db",
   "metadata": {},
   "outputs": [],
   "source": [
    "import pandas as pd\n",
    "import numpy as np\n",
    "import os\n",
    "import time\n",
    "from bs4 import BeautifulSoup\n",
    "from selenium import webdriver\n",
    "from selenium.webdriver.common.by import By\n",
    "from selenium.webdriver.support.ui import Select, WebDriverWait\n",
    "from selenium.webdriver.support import expected_conditions as EC\n",
    "from selenium.webdriver.chrome.service import Service\n",
    "from PIL import Image\n",
    "from io import BytesIO\n",
    "import requests\n",
    "import datetime\n",
    "from threading import *\n",
    "import base64\n",
    "import json"
   ]
  },
  {
   "cell_type": "code",
   "execution_count": 2,
   "id": "16729d8a",
   "metadata": {},
   "outputs": [],
   "source": [
    "# Initial Configuration\n",
    "driver_path = './driver/chromedriver-linux64/chromedriver'\n",
    "s = Service(driver_path)"
   ]
  },
  {
   "cell_type": "code",
   "execution_count": 3,
   "id": "b188cd2f",
   "metadata": {},
   "outputs": [],
   "source": [
    "url = 'https://www.daraz.com.np/products/apple-macbook-air-13-in-with-m1-chip256gb-with-1-year-breakage-insurance-evostore-i105118187-s1026752551.html'\n",
    "# url = 'https://www.daraz.com.np/products/pei-mei-vitamin-c-face-serum-for-freckle-and-spots-30-ml-i112984561-s1030693030.html?spm=a2a0e.11779170.flashSale.3.287d2d2bYwfD25'"
   ]
  },
  {
   "cell_type": "code",
   "execution_count": 4,
   "id": "5ed53ee7",
   "metadata": {},
   "outputs": [],
   "source": [
    "def get_url(driver, url):\n",
    "    driver.get(url)\n",
    "    driver.implicitly_wait(120) # Wait for 120 seconds\n",
    "\n",
    "def to_bs4_object(html_page):\n",
    "    soup = BeautifulSoup(html_page, \"html.parser\")\n",
    "    return soup\n",
    "\n",
    "# Return the current url html code\n",
    "def get_page_source(driver):\n",
    "    result = driver.page_source\n",
    "    soup = to_bs4_object(result)\n",
    "    return soup\n",
    "\n",
    "def fill_form(driver, by_value, value, _name=False, _id=False, _class=False, _xpath=False):\n",
    "    # fill the form\n",
    "    try:\n",
    "        if _name:\n",
    "            text_input = driver.find_element(By.NAME, by_value)\n",
    "            text_input.clear()\n",
    "            text_input.send_keys(value)\n",
    "        elif _class:\n",
    "            text_input = driver.find_element(By.CLASS_NAME, by_value)\n",
    "            text_input.clear()\n",
    "            text_input.send_keys(value)\n",
    "        elif _id:\n",
    "            text_input = driver.find_element(By.ID, by_value)\n",
    "            text_input.clear()\n",
    "            text_input.send_keys(value)\n",
    "        elif _xpath:\n",
    "            text_input = driver.find_element(By.XPATH, by_value)\n",
    "            text_input.clear()\n",
    "            text_input.send_keys(value)\n",
    "        else:\n",
    "            print(\"Input is Disabled\")\n",
    "    except:\n",
    "        print(\"Input is Disabled\")\n",
    "\n",
    "def _click(driver, value, _id=False, _name=False, _class=False, _xpath=False):\n",
    "    if _id:\n",
    "        btn = driver.find_element(By.ID, value)\n",
    "        btn.click()\n",
    "    elif _name:\n",
    "        btn = driver.find_element(By.NAME, value)\n",
    "        btn.click()\n",
    "    elif _class:\n",
    "        btn = driver.find_element(By.CLASS_NAME, value)\n",
    "        btn.click()\n",
    "    elif _xpath:\n",
    "        btn = driver.find_element(By.XPATH, value)\n",
    "        btn.click()\n",
    "    else:\n",
    "        print(\"Button is Disabled\")\n",
    "        \n",
    "def enable_input(driver, value, _xpath=False, _id=False, _name=False, _class=False):\n",
    "    if _id:\n",
    "        input_element = driver.find_element(By.ID, value)\n",
    "        driver.execute_script(\"arguments[0].removeAttribute('disabled')\", input_element)\n",
    "    elif _name:\n",
    "        input_element = driver.find_element(By.NAME, value)\n",
    "        driver.execute_script(\"arguments[0].removeAttribute('disabled')\", input_element)\n",
    "    elif _class:\n",
    "        input_element = driver.find_element(By.CLASS_NAME, value)\n",
    "        driver.execute_script(\"arguments[0].removeAttribute('disabled')\", input_element)\n",
    "    elif _xpath:\n",
    "        input_element = driver.find_element(By.XPATH, value)\n",
    "        driver.execute_script(\"arguments[0].removeAttribute('disabled')\", input_element)\n",
    "    else:\n",
    "        print(\"Button is Disabled\")"
   ]
  },
  {
   "cell_type": "code",
   "execution_count": 26,
   "id": "347d0ec6",
   "metadata": {},
   "outputs": [],
   "source": [
    "driver = webdriver.Chrome(service=s)"
   ]
  },
  {
   "cell_type": "code",
   "execution_count": 27,
   "id": "36ce1f6e",
   "metadata": {},
   "outputs": [],
   "source": [
    "get_url(driver, url)"
   ]
  },
  {
   "cell_type": "code",
   "execution_count": 28,
   "id": "c8ae2cc4",
   "metadata": {},
   "outputs": [],
   "source": [
    "soup = get_page_source(driver)"
   ]
  },
  {
   "cell_type": "code",
   "execution_count": 29,
   "id": "9323ca41",
   "metadata": {},
   "outputs": [],
   "source": [
    "product_name = soup.find('span', class_='pdp-mod-product-badge-title').text\n",
    "price_section_content = soup.find('div', class_='pdp-product-price')\n",
    "product_price = price_section_content.find('span', class_='pdp-price').text\n",
    "product_actual_price = price_section_content.find('span', class_='pdp-price_type_deleted').text\n",
    "product_discount = price_section_content.find('span', class_='pdp-product-price__discount').text"
   ]
  },
  {
   "cell_type": "code",
   "execution_count": 30,
   "id": "490f26ed",
   "metadata": {},
   "outputs": [
    {
     "name": "stdout",
     "output_type": "stream",
     "text": [
      "Product Name:  Apple MacBook Air 13-in with M1 chip/256GB with 1 year Breakage Insurance- EvoStore\n",
      "Product Price:  Rs. 134,900\n",
      "Product Actual Price:  Rs. 139,900\n",
      "Product Price Dropped Percentages:  -4%\n"
     ]
    }
   ],
   "source": [
    "print('Product Name: ', product_name)\n",
    "print('Product Price: ', product_price)\n",
    "print('Product Actual Price: ', product_actual_price)\n",
    "print('Product Price Dropped Percentages: ', product_discount)"
   ]
  },
  {
   "cell_type": "code",
   "execution_count": 31,
   "id": "5457d953",
   "metadata": {},
   "outputs": [],
   "source": [
    "# click Buy Now button\n",
    "_click(driver, '//*[@id=\"module_add_to_cart\"]/div/button[1]/span/span', _xpath=True)"
   ]
  },
  {
   "cell_type": "code",
   "execution_count": 32,
   "id": "4b7d28d5",
   "metadata": {},
   "outputs": [],
   "source": [
    "# _click(driver, '//*[@id=\"container\"]/div/div/div/div[2]/form/div/div[1]/div[1]/input', _xpath=True)\n",
    "# fill_form(driver, '//*[@id=\"container\"]/div/div/div/div[2]/form/div/div[1]/div[1]/input', 'rklamahato11@gmail.com', _xpath=True)"
   ]
  },
  {
   "cell_type": "code",
   "execution_count": 35,
   "id": "925b9d3d",
   "metadata": {},
   "outputs": [],
   "source": [
    "# Search Input\n",
    "fill_form(driver, 'q', 'test', _id=True)"
   ]
  },
  {
   "cell_type": "code",
   "execution_count": 36,
   "id": "43043134",
   "metadata": {},
   "outputs": [],
   "source": [
    "# Click Search Button\n",
    "_click(driver, 'search-box__button--1oH7', _class=True)"
   ]
  },
  {
   "cell_type": "code",
   "execution_count": null,
   "id": "b655053f",
   "metadata": {},
   "outputs": [],
   "source": []
  }
 ],
 "metadata": {
  "kernelspec": {
   "display_name": "Python 3 (ipykernel)",
   "language": "python",
   "name": "python3"
  },
  "language_info": {
   "codemirror_mode": {
    "name": "ipython",
    "version": 3
   },
   "file_extension": ".py",
   "mimetype": "text/x-python",
   "name": "python",
   "nbconvert_exporter": "python",
   "pygments_lexer": "ipython3",
   "version": "3.10.12"
  }
 },
 "nbformat": 4,
 "nbformat_minor": 5
}
